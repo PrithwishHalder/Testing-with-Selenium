{
 "cells": [
  {
   "cell_type": "code",
   "execution_count": 1,
   "id": "5bbb0220",
   "metadata": {},
   "outputs": [
    {
     "data": {
      "text/plain": [
       "['C:/Users/halde/OneDrive/Desktop/CelebalTech/Task6 (Selenium)/Files\\\\Closed-end_Debt_FMP.xls',\n",
       " 'C:/Users/halde/OneDrive/Desktop/CelebalTech/Task6 (Selenium)/Files\\\\Closed-end_Equity_ELSS.xls',\n",
       " 'C:/Users/halde/OneDrive/Desktop/CelebalTech/Task6 (Selenium)/Files\\\\Closed-end_Equity_Large Cap.xls',\n",
       " 'C:/Users/halde/OneDrive/Desktop/CelebalTech/Task6 (Selenium)/Files\\\\Closed-end_Equity_Multi Cap.xls',\n",
       " 'C:/Users/halde/OneDrive/Desktop/CelebalTech/Task6 (Selenium)/Files\\\\Closed-end_Equity_Sectoral - Thematic.xls',\n",
       " 'C:/Users/halde/OneDrive/Desktop/CelebalTech/Task6 (Selenium)/Files\\\\Closed-end_Equity_Small Cap.xls',\n",
       " 'C:/Users/halde/OneDrive/Desktop/CelebalTech/Task6 (Selenium)/Files\\\\Closed-end_Hybrid_Conservative Hybrid.xls',\n",
       " 'C:/Users/halde/OneDrive/Desktop/CelebalTech/Task6 (Selenium)/Files\\\\Open-ended_Debt_Banking and PSU.xls',\n",
       " 'C:/Users/halde/OneDrive/Desktop/CelebalTech/Task6 (Selenium)/Files\\\\Open-ended_Debt_Corporate Bond.xls',\n",
       " 'C:/Users/halde/OneDrive/Desktop/CelebalTech/Task6 (Selenium)/Files\\\\Open-ended_Debt_Credit Risk.xls',\n",
       " 'C:/Users/halde/OneDrive/Desktop/CelebalTech/Task6 (Selenium)/Files\\\\Open-ended_Debt_Dynamic Bond.xls',\n",
       " 'C:/Users/halde/OneDrive/Desktop/CelebalTech/Task6 (Selenium)/Files\\\\Open-ended_Debt_Floater.xls',\n",
       " 'C:/Users/halde/OneDrive/Desktop/CelebalTech/Task6 (Selenium)/Files\\\\Open-ended_Debt_FMP.xls',\n",
       " 'C:/Users/halde/OneDrive/Desktop/CelebalTech/Task6 (Selenium)/Files\\\\Open-ended_Debt_Gilt with 10 year constant duration.xls',\n",
       " 'C:/Users/halde/OneDrive/Desktop/CelebalTech/Task6 (Selenium)/Files\\\\Open-ended_Debt_Gilt.xls',\n",
       " 'C:/Users/halde/OneDrive/Desktop/CelebalTech/Task6 (Selenium)/Files\\\\Open-ended_Debt_Liquid.xls',\n",
       " 'C:/Users/halde/OneDrive/Desktop/CelebalTech/Task6 (Selenium)/Files\\\\Open-ended_Debt_Long Duration.xls',\n",
       " 'C:/Users/halde/OneDrive/Desktop/CelebalTech/Task6 (Selenium)/Files\\\\Open-ended_Debt_Low Duration.xls',\n",
       " 'C:/Users/halde/OneDrive/Desktop/CelebalTech/Task6 (Selenium)/Files\\\\Open-ended_Debt_Medium Duration.xls',\n",
       " 'C:/Users/halde/OneDrive/Desktop/CelebalTech/Task6 (Selenium)/Files\\\\Open-ended_Debt_Medium to Long Duration.xls',\n",
       " 'C:/Users/halde/OneDrive/Desktop/CelebalTech/Task6 (Selenium)/Files\\\\Open-ended_Debt_Money Market.xls',\n",
       " 'C:/Users/halde/OneDrive/Desktop/CelebalTech/Task6 (Selenium)/Files\\\\Open-ended_Debt_Overnight.xls',\n",
       " 'C:/Users/halde/OneDrive/Desktop/CelebalTech/Task6 (Selenium)/Files\\\\Open-ended_Debt_Short Duration.xls',\n",
       " 'C:/Users/halde/OneDrive/Desktop/CelebalTech/Task6 (Selenium)/Files\\\\Open-ended_Debt_Ultra Short Duration.xls',\n",
       " 'C:/Users/halde/OneDrive/Desktop/CelebalTech/Task6 (Selenium)/Files\\\\Open-ended_Equity_Contra.xls',\n",
       " 'C:/Users/halde/OneDrive/Desktop/CelebalTech/Task6 (Selenium)/Files\\\\Open-ended_Equity_Dividend Yield.xls',\n",
       " 'C:/Users/halde/OneDrive/Desktop/CelebalTech/Task6 (Selenium)/Files\\\\Open-ended_Equity_ELSS.xls',\n",
       " 'C:/Users/halde/OneDrive/Desktop/CelebalTech/Task6 (Selenium)/Files\\\\Open-ended_Equity_Flexi Cap.xls',\n",
       " 'C:/Users/halde/OneDrive/Desktop/CelebalTech/Task6 (Selenium)/Files\\\\Open-ended_Equity_Focused.xls',\n",
       " 'C:/Users/halde/OneDrive/Desktop/CelebalTech/Task6 (Selenium)/Files\\\\Open-ended_Equity_Large & Mid Cap.xls',\n",
       " 'C:/Users/halde/OneDrive/Desktop/CelebalTech/Task6 (Selenium)/Files\\\\Open-ended_Equity_Large Cap.xls',\n",
       " 'C:/Users/halde/OneDrive/Desktop/CelebalTech/Task6 (Selenium)/Files\\\\Open-ended_Equity_Mid Cap.xls',\n",
       " 'C:/Users/halde/OneDrive/Desktop/CelebalTech/Task6 (Selenium)/Files\\\\Open-ended_Equity_Multi Cap.xls',\n",
       " 'C:/Users/halde/OneDrive/Desktop/CelebalTech/Task6 (Selenium)/Files\\\\Open-ended_Equity_Sectoral - Thematic.xls',\n",
       " 'C:/Users/halde/OneDrive/Desktop/CelebalTech/Task6 (Selenium)/Files\\\\Open-ended_Equity_Small Cap.xls',\n",
       " 'C:/Users/halde/OneDrive/Desktop/CelebalTech/Task6 (Selenium)/Files\\\\Open-ended_Equity_Value.xls',\n",
       " 'C:/Users/halde/OneDrive/Desktop/CelebalTech/Task6 (Selenium)/Files\\\\Open-ended_Hybrid_Aggressive Hybrid.xls',\n",
       " 'C:/Users/halde/OneDrive/Desktop/CelebalTech/Task6 (Selenium)/Files\\\\Open-ended_Hybrid_Arbitrage.xls',\n",
       " 'C:/Users/halde/OneDrive/Desktop/CelebalTech/Task6 (Selenium)/Files\\\\Open-ended_Hybrid_Conservative Hybrid.xls',\n",
       " 'C:/Users/halde/OneDrive/Desktop/CelebalTech/Task6 (Selenium)/Files\\\\Open-ended_Hybrid_Dynamic Asset Allocation or Balanced Advantage.xls',\n",
       " 'C:/Users/halde/OneDrive/Desktop/CelebalTech/Task6 (Selenium)/Files\\\\Open-ended_Hybrid_Equity Savings.xls',\n",
       " 'C:/Users/halde/OneDrive/Desktop/CelebalTech/Task6 (Selenium)/Files\\\\Open-ended_Hybrid_Multi Asset Allocation.xls',\n",
       " 'C:/Users/halde/OneDrive/Desktop/CelebalTech/Task6 (Selenium)/Files\\\\Open-ended_Other_FoFs (Overseas-Domestic).xls',\n",
       " 'C:/Users/halde/OneDrive/Desktop/CelebalTech/Task6 (Selenium)/Files\\\\Open-ended_Other_Index Funds- ETFs.xls',\n",
       " \"C:/Users/halde/OneDrive/Desktop/CelebalTech/Task6 (Selenium)/Files\\\\Open-ended_Solution Oriented_Children's.xls\",\n",
       " 'C:/Users/halde/OneDrive/Desktop/CelebalTech/Task6 (Selenium)/Files\\\\Open-ended_Solution Oriented_Retirement.xls']"
      ]
     },
     "execution_count": 1,
     "metadata": {},
     "output_type": "execute_result"
    }
   ],
   "source": [
    "import pandas as pd\n",
    "import glob, os, xlrd\n",
    "PATH = \"C:/Users/halde/OneDrive/Desktop/CelebalTech/Task6 (Selenium)/Files/\"\n",
    "cols = [\n",
    "      \"Scheme Name\",\"Benchmark\",\"NAV Date\",\"NAV Regular\",\t\"NAV Direct\",\t\"Return 1 Year ( % ) Regular\",\t\"Return 1 Year (%) Direct\",\t\"Return 1 Year (%) Benchmark\",\t\"Return 3 Year (%) Regular\",\t\"Return 3 Year (%) Direct\",\t\"Return 3 Year (%) Benchmark\",\t\"Return 5 Year (%) Regular\",\t\"Return 5 Year (%) Direct\",\t\"Return 5 Year (%) Benchmark\",\t\"Return 10 Year (%) Regular\",\t\"Return 10 Year (%) Direct\",\t\"Return 10 Year (%) Benchmark\",\t\"Return Since Launch Regular\",\t\"Return Since Launch Direct\",\t\"Return Since Launch Benchmark\",\t\"Daily AUM (Cr.)\"\n",
    "  ]\n",
    "df = pd.DataFrame(columns=cols)\n",
    "files = glob.glob(PATH + \"\\*.xls\")    \n",
    "files"
   ]
  },
  {
   "cell_type": "code",
   "execution_count": 2,
   "id": "d9592555",
   "metadata": {},
   "outputs": [
    {
     "data": {
      "text/html": [
       "<div>\n",
       "<style scoped>\n",
       "    .dataframe tbody tr th:only-of-type {\n",
       "        vertical-align: middle;\n",
       "    }\n",
       "\n",
       "    .dataframe tbody tr th {\n",
       "        vertical-align: top;\n",
       "    }\n",
       "\n",
       "    .dataframe thead th {\n",
       "        text-align: right;\n",
       "    }\n",
       "</style>\n",
       "<table border=\"1\" class=\"dataframe\">\n",
       "  <thead>\n",
       "    <tr style=\"text-align: right;\">\n",
       "      <th></th>\n",
       "      <th>Scheme Name</th>\n",
       "      <th>Benchmark</th>\n",
       "      <th>NAV Date</th>\n",
       "      <th>NAV Regular</th>\n",
       "      <th>NAV Direct</th>\n",
       "      <th>Return 1 Year ( % ) Regular</th>\n",
       "      <th>Return 1 Year (%) Direct</th>\n",
       "      <th>Return 1 Year (%) Benchmark</th>\n",
       "      <th>Return 3 Year (%) Regular</th>\n",
       "      <th>Return 3 Year (%) Direct</th>\n",
       "      <th>...</th>\n",
       "      <th>Return 5 Year (%) Regular</th>\n",
       "      <th>Return 5 Year (%) Direct</th>\n",
       "      <th>Return 5 Year (%) Benchmark</th>\n",
       "      <th>Return 10 Year (%) Regular</th>\n",
       "      <th>Return 10 Year (%) Direct</th>\n",
       "      <th>Return 10 Year (%) Benchmark</th>\n",
       "      <th>Return Since Launch Regular</th>\n",
       "      <th>Return Since Launch Direct</th>\n",
       "      <th>Return Since Launch Benchmark</th>\n",
       "      <th>Daily AUM (Cr.)</th>\n",
       "    </tr>\n",
       "  </thead>\n",
       "  <tbody>\n",
       "  </tbody>\n",
       "</table>\n",
       "<p>0 rows × 21 columns</p>\n",
       "</div>"
      ],
      "text/plain": [
       "Empty DataFrame\n",
       "Columns: [Scheme Name, Benchmark, NAV Date, NAV Regular, NAV Direct, Return 1 Year ( % ) Regular, Return 1 Year (%) Direct, Return 1 Year (%) Benchmark, Return 3 Year (%) Regular, Return 3 Year (%) Direct, Return 3 Year (%) Benchmark, Return 5 Year (%) Regular, Return 5 Year (%) Direct, Return 5 Year (%) Benchmark, Return 10 Year (%) Regular, Return 10 Year (%) Direct, Return 10 Year (%) Benchmark, Return Since Launch Regular, Return Since Launch Direct, Return Since Launch Benchmark, Daily AUM (Cr.)]\n",
       "Index: []\n",
       "\n",
       "[0 rows x 21 columns]"
      ]
     },
     "execution_count": 2,
     "metadata": {},
     "output_type": "execute_result"
    }
   ],
   "source": [
    "df"
   ]
  },
  {
   "cell_type": "code",
   "execution_count": 3,
   "id": "b9fac1ef",
   "metadata": {},
   "outputs": [
    {
     "data": {
      "text/plain": [
       "(1403, 39)"
      ]
     },
     "execution_count": 3,
     "metadata": {},
     "output_type": "execute_result"
    }
   ],
   "source": [
    "for file in files:\n",
    "    file_name = os.path.basename(file)\n",
    "    file_path = PATH + file_name\n",
    "    workbook = xlrd.open_workbook(file_path, ignore_workbook_corruption=True)\n",
    "    temp_df = pd.read_excel(\n",
    "        workbook, sheet_name=\"fund-performance\",  skiprows=5)\n",
    "    df = pd.concat([df, temp_df],  ignore_index=True)\n",
    "df.shape"
   ]
  },
  {
   "cell_type": "code",
   "execution_count": null,
   "id": "005fe47e",
   "metadata": {},
   "outputs": [],
   "source": []
  }
 ],
 "metadata": {
  "kernelspec": {
   "display_name": "Python 3 (ipykernel)",
   "language": "python",
   "name": "python3"
  },
  "language_info": {
   "codemirror_mode": {
    "name": "ipython",
    "version": 3
   },
   "file_extension": ".py",
   "mimetype": "text/x-python",
   "name": "python",
   "nbconvert_exporter": "python",
   "pygments_lexer": "ipython3",
   "version": "3.9.7"
  }
 },
 "nbformat": 4,
 "nbformat_minor": 5
}
